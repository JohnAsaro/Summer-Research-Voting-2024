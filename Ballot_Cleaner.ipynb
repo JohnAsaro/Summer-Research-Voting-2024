{
  "cells": [
    {
      "cell_type": "markdown",
      "metadata": {},
      "source": [
        "Cleans data for voter records that are formatted a certain way"
      ]
    },
    {
      "cell_type": "code",
      "execution_count": 1,
      "metadata": {
        "id": "EUZo0VqPSD_T"
      },
      "outputs": [],
      "source": [
        "import pandas as pd\n",
        "import numpy as np\n",
        "import os\n",
        "from pathfinder import csvfinder\n",
        "\n",
        "csv_file = r\"2021-Mayor-Cast-Vote-Record.csv\" #Change file name here/other data cleaning tasks below when dealing with different datasets\n",
        "file_path = csvfinder(csv_file)\n",
        "\n",
        "#Load the CSV file\n",
        "data = pd.read_csv(file_path)"
      ]
    },
    {
      "cell_type": "code",
      "execution_count": 2,
      "metadata": {
        "colab": {
          "base_uri": "https://localhost:8080/",
          "height": 423
        },
        "id": "jA87aKj_THlv",
        "outputId": "e0fa0afe-02d6-47b7-ce64-f7ae73ef3fcf"
      },
      "outputs": [],
      "source": [
        "data = pd.read_csv(file_path)\n",
        "data.rename(columns={\n",
        "    '1st Choice': '1st',\n",
        "    '2nd Choice': '2nd',\n",
        "    '3rd Choice': '3rd',\n",
        "    'Precinct': 'Precinct',\n",
        "    'Count': 'Count'\n",
        "}, inplace=True)\n",
        "data.to_csv(file_path, index = False)"
      ]
    },
    {
      "cell_type": "markdown",
      "metadata": {
        "id": "oOGdTXCPtSJK"
      },
      "source": [
        "Remove invalid votes"
      ]
    },
    {
      "cell_type": "code",
      "execution_count": 3,
      "metadata": {
        "colab": {
          "base_uri": "https://localhost:8080/",
          "height": 423
        },
        "id": "TyDSwBHcUuuW",
        "outputId": "3d8dc5bf-0a8b-4c99-c580-6c09059290ad"
      },
      "outputs": [],
      "source": [
        "#Define the list of values to filter out\n",
        "undesired_values = [\"undervote\", \"overvote\", \"defective\"]\n",
        "\n",
        "cleaned_data = data.copy()\n",
        "\n",
        "#Replace undesired values with NA\n",
        "cleaned_data.replace(undesired_values, np.nan, inplace=True)\n",
        "\n",
        "# Filter out rows where all of the specified columns have undesired values\n",
        "# cleaned_data = data[~data[['1st', '2nd', '3rd']].isin(undesired_values).any(axis=1)]\n",
        "#cleaned_data = data[~(data['1st'].isin(undesired_values) &\n",
        " #                     data['2nd'].isin(undesired_values) &\n",
        " #                     data['3rd'].isin(undesired_values))]\n",
        "cleaned_data = cleaned_data.dropna(subset=['1st', '2nd', '3rd'], how='all')\n",
        "\n",
        "#Drop Precinct column\n",
        "cleaned_data = cleaned_data.drop(columns=['Precinct'])\n",
        "\n",
        "#Display the first few rows of the cleaned dataframe to verify the changes\n",
        "cleaned_data\n",
        "\n",
        "data.to_csv(file_path, index = False)"
      ]
    },
    {
      "cell_type": "code",
      "execution_count": 4,
      "metadata": {
        "colab": {
          "base_uri": "https://localhost:8080/"
        },
        "collapsed": true,
        "id": "0AafibCHKo4Y",
        "outputId": "bb75fbac-001c-47be-8465-d8ab00b1e50c"
      },
      "outputs": [
        {
          "name": "stdout",
          "output_type": "stream",
          "text": [
            "                   1st              2nd                   3rd  Count\n",
            "0        Sheila Nezhad  Paul E. Johnson          Clint Conner      1\n",
            "1          Doug Nelson    Sheila Nezhad          Clint Conner      1\n",
            "2          Mark Globus       Kate Knuth           Mike Winter      1\n",
            "3     Troy Benjegerdes    Sheila Nezhad   Christopher W David      1\n",
            "4          Doug Nelson    Sheila Nezhad  Kevin \"No Body\" Ward      1\n",
            "...                ...              ...                   ...    ...\n",
            "2895        Jacob Frey       Jacob Frey            Jacob Frey   1974\n",
            "2896        Kate Knuth    Sheila Nezhad            Jacob Frey   2511\n",
            "2897        Jacob Frey       Kate Knuth         Sheila Nezhad   2720\n",
            "2898        Kate Knuth    Sheila Nezhad               AJ Awed   2995\n",
            "2899     Sheila Nezhad       Kate Knuth               AJ Awed   4330\n",
            "\n",
            "[2900 rows x 4 columns]\n"
          ]
        }
      ],
      "source": [
        "print(cleaned_data.groupby(['1st', '2nd', '3rd']).agg({'Count': 'sum'}).reset_index().sort_values(by='Count', ascending=True, ignore_index=True))"
      ]
    },
    {
      "cell_type": "markdown",
      "metadata": {
        "id": "KPB6qOOWvcVE"
      },
      "source": [
        "Edit invalid choices in votes"
      ]
    },
    {
      "cell_type": "code",
      "execution_count": 5,
      "metadata": {
        "colab": {
          "base_uri": "https://localhost:8080/",
          "height": 423
        },
        "id": "p3RkM0st29z_",
        "outputId": "d53bf8c8-a839-42a6-c2b2-f498e00c4d38"
      },
      "outputs": [],
      "source": [
        "# Identify rows where 1st == 2nd == 3rd\n",
        "condition_all = (cleaned_data['1st'] == cleaned_data['2nd']) & (cleaned_data['1st'] == cleaned_data['3rd']) & (cleaned_data[\"1st\"] != \"UWI\")\n",
        "\n",
        "# Change col2 and col3 to NaN for those rows\n",
        "cleaned_data.loc[condition_all, ['2nd', '3rd']] = np.nan\n",
        "\n",
        "# Identify rows\n",
        "condition_1st_3rd_equal = (cleaned_data['1st'] == cleaned_data['3rd']) & (cleaned_data[\"1st\"] != \"UWI\")\n",
        "condition_2nd_3rd_equal = (cleaned_data['2nd'] == cleaned_data['3rd']) & (cleaned_data[\"2nd\"] != \"UWI\")\n",
        "condition_1st_2nd_equal = (cleaned_data['1st'] == cleaned_data['2nd']) & (cleaned_data[\"1st\"] != \"UWI\")\n",
        "\n",
        "# Change 3rd to NaN for those rows\n",
        "cleaned_data.loc[condition_1st_3rd_equal, '3rd'] = np.nan\n",
        "cleaned_data.loc[condition_2nd_3rd_equal, '3rd'] = np.nan\n",
        "cleaned_data.loc[condition_1st_2nd_equal, '2nd'] = np.nan\n",
        "\n",
        "# Check if '1st' and '2nd' are NaN\n",
        "condition = cleaned_data['1st'].isna() & cleaned_data['2nd'].isna()\n",
        "\n",
        "# Apply the condition and update the values\n",
        "cleaned_data.loc[condition, '1st'] = cleaned_data.loc[condition, '3rd']\n",
        "cleaned_data.loc[condition, '3rd'] = np.nan\n",
        "\n",
        "# Check if '2nd' are NaN\n",
        "condition = cleaned_data['2nd'].isna()\n",
        "\n",
        "# Apply the condition and update the values\n",
        "cleaned_data.loc[condition, '2nd'] = cleaned_data.loc[condition, '3rd']\n",
        "cleaned_data.loc[condition, '3rd'] = np.nan\n",
        "\n",
        "# Check if '1st' are NaN\n",
        "condition = cleaned_data['1st'].isna()\n",
        "\n",
        "# Apply the condition and update the values\n",
        "cleaned_data.loc[condition, '1st'] = cleaned_data.loc[condition, '2nd']\n",
        "cleaned_data.loc[condition, '2nd'] = np.nan\n",
        "\n",
        "cleaned_data\n",
        "\n",
        "cleaned_data.to_csv(file_path, index = False)"
      ]
    },
    {
      "cell_type": "markdown",
      "metadata": {
        "id": "Hrj1-evKGN3g"
      },
      "source": [
        "Aggregate Data"
      ]
    },
    {
      "cell_type": "code",
      "execution_count": 6,
      "metadata": {
        "colab": {
          "base_uri": "https://localhost:8080/"
        },
        "id": "kh2iLMggGRnL",
        "outputId": "0fdd081c-d8c8-4c94-cac9-3910481484a9"
      },
      "outputs": [
        {
          "name": "stdout",
          "output_type": "stream",
          "text": [
            "          1st                    2nd                         3rd  Count\n",
            "0     AJ Awed  Bob \"Again\" Carney Jr                  Jacob Frey      4\n",
            "1     AJ Awed            Mike Winter        Kevin \"No Body\" Ward      2\n",
            "2     AJ Awed            Mike Winter              Laverne Turner      1\n",
            "3     AJ Awed            Mike Winter                 Mark Globus      3\n",
            "4     AJ Awed            Mike Winter  Nate \"Honey Badger\" Atkins      1\n",
            "...       ...                    ...                         ...    ...\n",
            "2951      UWI             Jacob Frey  Nate \"Honey Badger\" Atkins      2\n",
            "2952      UWI             Jacob Frey                        Null      4\n",
            "2953      UWI             Jacob Frey               Sheila Nezhad      1\n",
            "2954      UWI           Clint Conner                        Null      1\n",
            "2955      UWI                    UWI                         UWI     31\n",
            "\n",
            "[2956 rows x 4 columns]\n"
          ]
        }
      ],
      "source": [
        "cleaned_data = cleaned_data.fillna('Null')\n",
        "aggregated_data = cleaned_data.groupby(['1st', '2nd', '3rd']).agg({'Count': 'sum'}).reset_index().sort_values(by='1st', ascending=True, ignore_index=True)\n",
        "print(aggregated_data)\n",
        "\n",
        "cleaned_data.to_csv(file_path, index = False)"
      ]
    },
    {
      "cell_type": "markdown",
      "metadata": {
        "id": "GnSStjFrJhI2"
      },
      "source": [
        "Round 1 1st Rank"
      ]
    },
    {
      "cell_type": "code",
      "execution_count": 7,
      "metadata": {
        "colab": {
          "base_uri": "https://localhost:8080/"
        },
        "id": "L51laeIYJjVR",
        "outputId": "1db02496-c4ae-4166-f732-b7f54ceddbed"
      },
      "outputs": [
        {
          "name": "stdout",
          "output_type": "stream",
          "text": [
            "                            Candidate  Count\n",
            "1                             AJ Awed   6860\n",
            "2               Bob \"Again\" Carney Jr   2788\n",
            "3   Christopher Robin \"CRZ\" Zimmerman      2\n",
            "4                 Christopher W David    493\n",
            "5                        Clint Conner   4309\n",
            "6                         Doug Nelson    739\n",
            "7                          Jacob Frey  61620\n",
            "8                          Kate Knuth  26468\n",
            "9                Kevin \"No Body\" Ward    282\n",
            "10                     Laverne Turner   4620\n",
            "11                      Marcus Harcus   1189\n",
            "12                        Mark Globus   1158\n",
            "13                        Mike Winter    642\n",
            "14         Nate \"Honey Badger\" Atkins   1179\n",
            "15                    Paul E. Johnson    243\n",
            "16                     Perry, Jerrell    687\n",
            "17                      Sheila Nezhad  30368\n",
            "18                   Troy Benjegerdes    184\n",
            "19                                UWI    143\n"
          ]
        }
      ],
      "source": [
        "# Group by the first-ranked candidate and sum the counts, then convert to DataFrame\n",
        "first_rank_counts_df = aggregated_data.groupby('1st')['Count'].sum().reset_index()\n",
        "\n",
        "# Rename the columns\n",
        "first_rank_counts_df.columns = ['Candidate', 'Count']\n",
        "\n",
        "# Set the index to start from 1\n",
        "first_rank_counts_df.index = first_rank_counts_df.index + 1\n",
        "\n",
        "print(first_rank_counts_df)\n",
        "\n",
        "cleaned_data.to_csv(file_path, index = False)"
      ]
    },
    {
      "cell_type": "markdown",
      "metadata": {
        "id": "kRDOVynrqtIO"
      },
      "source": [
        "Next round: remove UWI"
      ]
    },
    {
      "cell_type": "code",
      "execution_count": 8,
      "metadata": {
        "colab": {
          "base_uri": "https://localhost:8080/"
        },
        "id": "JFt9LiXeqwHp",
        "outputId": "eb7607ae-a7bd-46b1-9287-1f4c550d980e"
      },
      "outputs": [
        {
          "name": "stdout",
          "output_type": "stream",
          "text": [
            "                  1st                   2nd            3rd  Count\n",
            "0          Jacob Frey                   NaN            NaN      1\n",
            "1         Mark Globus           Mike Winter     Jacob Frey      1\n",
            "2          Jacob Frey  Kevin \"No Body\" Ward            NaN      1\n",
            "3          Jacob Frey                   NaN            NaN      1\n",
            "4          Jacob Frey            Kate Knuth        AJ Awed      1\n",
            "...               ...                   ...            ...    ...\n",
            "145332    Doug Nelson            Kate Knuth  Sheila Nezhad      1\n",
            "145333  Sheila Nezhad            Kate Knuth            NaN      1\n",
            "145334     Jacob Frey               AJ Awed   Clint Conner      1\n",
            "145335  Sheila Nezhad            Kate Knuth            NaN      1\n",
            "145336  Sheila Nezhad               AJ Awed  Marcus Harcus      1\n",
            "\n",
            "[143890 rows x 4 columns]\n"
          ]
        }
      ],
      "source": [
        "cleaned_data.replace(\"UWI\", np.nan, inplace=True)\n",
        "cleaned_data.replace(\"Null\", np.nan, inplace=True)\n",
        "\n",
        "#Repeat Steps\n",
        "cleaned_data = cleaned_data.dropna(subset=['1st', '2nd', '3rd'], how='all')\n",
        "\n",
        "#Repeat Steps\n",
        "\n",
        "# Check if '1st' and '2nd' are NaN\n",
        "condition = cleaned_data['1st'].isna() & cleaned_data['2nd'].isna()\n",
        "\n",
        "# Apply the condition and update the values\n",
        "cleaned_data.loc[condition, '1st'] = cleaned_data.loc[condition, '3rd']\n",
        "cleaned_data.loc[condition, '3rd'] = np.nan\n",
        "\n",
        "# Check if '2nd' are NaN\n",
        "condition = cleaned_data['2nd'].isna()\n",
        "\n",
        "# Apply the condition and update the values\n",
        "cleaned_data.loc[condition, '2nd'] = cleaned_data.loc[condition, '3rd']\n",
        "cleaned_data.loc[condition, '3rd'] = np.nan\n",
        "\n",
        "# Check if '1st' are NaN\n",
        "condition = cleaned_data['1st'].isna()\n",
        "\n",
        "# Apply the condition and update the values\n",
        "cleaned_data.loc[condition, '1st'] = cleaned_data.loc[condition, '2nd']\n",
        "cleaned_data.loc[condition, '2nd'] = np.nan\n",
        "\n",
        "print(cleaned_data)\n",
        "\n",
        "cleaned_data.to_csv(file_path, index = False)"
      ]
    },
    {
      "cell_type": "markdown",
      "metadata": {
        "id": "jKHik3rhuBO-"
      },
      "source": [
        "Aggregate"
      ]
    },
    {
      "cell_type": "code",
      "execution_count": 9,
      "metadata": {
        "colab": {
          "base_uri": "https://localhost:8080/"
        },
        "id": "RDGrCJsTuJKL",
        "outputId": "5d0c93e3-43e3-4740-9a84-77c380f9399f"
      },
      "outputs": [
        {
          "name": "stdout",
          "output_type": "stream",
          "text": [
            "                   1st                    2nd                         3rd  \\\n",
            "0              AJ Awed  Bob \"Again\" Carney Jr                  Jacob Frey   \n",
            "1              AJ Awed            Mike Winter        Kevin \"No Body\" Ward   \n",
            "2              AJ Awed            Mike Winter              Laverne Turner   \n",
            "3              AJ Awed            Mike Winter                 Mark Globus   \n",
            "4              AJ Awed            Mike Winter  Nate \"Honey Badger\" Atkins   \n",
            "...                ...                    ...                         ...   \n",
            "2759  Troy Benjegerdes           Clint Conner               Sheila Nezhad   \n",
            "2760  Troy Benjegerdes           Clint Conner                        Null   \n",
            "2761  Troy Benjegerdes           Clint Conner                 Mark Globus   \n",
            "2762  Troy Benjegerdes             Jacob Frey                 Doug Nelson   \n",
            "2763  Troy Benjegerdes          Sheila Nezhad             Paul E. Johnson   \n",
            "\n",
            "      Count  \n",
            "0         4  \n",
            "1         2  \n",
            "2         1  \n",
            "3         3  \n",
            "4         1  \n",
            "...     ...  \n",
            "2759      1  \n",
            "2760      5  \n",
            "2761      1  \n",
            "2762      1  \n",
            "2763      1  \n",
            "\n",
            "[2764 rows x 4 columns]\n"
          ]
        }
      ],
      "source": [
        "cleaned_data = cleaned_data.fillna('Null')\n",
        "aggregated_data = cleaned_data.groupby(['1st', '2nd', '3rd']).agg({'Count': 'sum'}).reset_index().sort_values(by='1st', ascending=True, ignore_index=True)\n",
        "print(aggregated_data)\n",
        "\n",
        "cleaned_data.to_csv(file_path, index = False)"
      ]
    },
    {
      "cell_type": "markdown",
      "metadata": {
        "id": "lqdmWhZVw6Jx"
      },
      "source": [
        "Round 2 first rank"
      ]
    },
    {
      "cell_type": "code",
      "execution_count": 10,
      "metadata": {
        "colab": {
          "base_uri": "https://localhost:8080/"
        },
        "id": "fD0RpMezw7yX",
        "outputId": "ca527dea-b14a-4073-cd7a-44298b7f2485"
      },
      "outputs": [
        {
          "name": "stdout",
          "output_type": "stream",
          "text": [
            "                            Candidate  Count\n",
            "1                             AJ Awed   6868\n",
            "2               Bob \"Again\" Carney Jr   2792\n",
            "3   Christopher Robin \"CRZ\" Zimmerman      2\n",
            "4                 Christopher W David    493\n",
            "5                        Clint Conner   4312\n",
            "6                         Doug Nelson    741\n",
            "7                          Jacob Frey  61639\n",
            "8                          Kate Knuth  26472\n",
            "9                Kevin \"No Body\" Ward    283\n",
            "10                     Laverne Turner   4628\n",
            "11                      Marcus Harcus   1194\n",
            "12                        Mark Globus   1159\n",
            "13                        Mike Winter    642\n",
            "14         Nate \"Honey Badger\" Atkins   1181\n",
            "15                    Paul E. Johnson    244\n",
            "16                     Perry, Jerrell    687\n",
            "17                      Sheila Nezhad  30369\n",
            "18                   Troy Benjegerdes    184\n"
          ]
        }
      ],
      "source": [
        "# Group by the first-ranked candidate and sum the counts, then convert to DataFrame\n",
        "first_rank_counts_df = aggregated_data.groupby('1st')['Count'].sum().reset_index()\n",
        "\n",
        "# Rename the columns\n",
        "first_rank_counts_df.columns = ['Candidate', 'Count']\n",
        "\n",
        "# Set the index to start from 1\n",
        "first_rank_counts_df.index = first_rank_counts_df.index + 1\n",
        "\n",
        "print(first_rank_counts_df)\n",
        "\n",
        "cleaned_data.to_csv(file_path, index = False)"
      ]
    },
    {
      "cell_type": "markdown",
      "metadata": {
        "id": "oABQI7EazNes"
      },
      "source": [
        "Aggregate"
      ]
    },
    {
      "cell_type": "code",
      "execution_count": 11,
      "metadata": {
        "colab": {
          "base_uri": "https://localhost:8080/"
        },
        "id": "ZfV2yvrIzOy7",
        "outputId": "f22bd01f-3fe6-437d-a7d0-56bcad40f67f"
      },
      "outputs": [
        {
          "name": "stdout",
          "output_type": "stream",
          "text": [
            "                   1st                    2nd                         3rd  \\\n",
            "0              AJ Awed  Bob \"Again\" Carney Jr                  Jacob Frey   \n",
            "1              AJ Awed            Mike Winter        Kevin \"No Body\" Ward   \n",
            "2              AJ Awed            Mike Winter              Laverne Turner   \n",
            "3              AJ Awed            Mike Winter                 Mark Globus   \n",
            "4              AJ Awed            Mike Winter  Nate \"Honey Badger\" Atkins   \n",
            "...                ...                    ...                         ...   \n",
            "2759  Troy Benjegerdes           Clint Conner               Sheila Nezhad   \n",
            "2760  Troy Benjegerdes           Clint Conner                        Null   \n",
            "2761  Troy Benjegerdes           Clint Conner                 Mark Globus   \n",
            "2762  Troy Benjegerdes             Jacob Frey                 Doug Nelson   \n",
            "2763  Troy Benjegerdes          Sheila Nezhad             Paul E. Johnson   \n",
            "\n",
            "      Count  \n",
            "0         4  \n",
            "1         2  \n",
            "2         1  \n",
            "3         3  \n",
            "4         1  \n",
            "...     ...  \n",
            "2759      1  \n",
            "2760      5  \n",
            "2761      1  \n",
            "2762      1  \n",
            "2763      1  \n",
            "\n",
            "[2764 rows x 4 columns]\n"
          ]
        }
      ],
      "source": [
        "cleaned_data = cleaned_data.fillna('Null')\n",
        "aggregated_data = cleaned_data.groupby(['1st', '2nd', '3rd']).agg({'Count': 'sum'}).reset_index().sort_values(by='1st', ascending=True, ignore_index=True)\n",
        "print(aggregated_data)\n",
        "\n",
        "cleaned_data.to_csv(file_path, index = False)"
      ]
    },
    {
      "cell_type": "markdown",
      "metadata": {
        "id": "jnUSR6bt0S4M"
      },
      "source": [
        "Round 3 first rank"
      ]
    },
    {
      "cell_type": "code",
      "execution_count": 12,
      "metadata": {
        "colab": {
          "base_uri": "https://localhost:8080/"
        },
        "id": "WLB_s13N0VnP",
        "outputId": "bca9b9c1-92fe-4e30-94e9-ec8cf98adea3"
      },
      "outputs": [
        {
          "name": "stdout",
          "output_type": "stream",
          "text": [
            "                            Candidate  Count\n",
            "1                             AJ Awed   6868\n",
            "2               Bob \"Again\" Carney Jr   2792\n",
            "3   Christopher Robin \"CRZ\" Zimmerman      2\n",
            "4                 Christopher W David    493\n",
            "5                        Clint Conner   4312\n",
            "6                         Doug Nelson    741\n",
            "7                          Jacob Frey  61639\n",
            "8                          Kate Knuth  26472\n",
            "9                Kevin \"No Body\" Ward    283\n",
            "10                     Laverne Turner   4628\n",
            "11                      Marcus Harcus   1194\n",
            "12                        Mark Globus   1159\n",
            "13                        Mike Winter    642\n",
            "14         Nate \"Honey Badger\" Atkins   1181\n",
            "15                    Paul E. Johnson    244\n",
            "16                     Perry, Jerrell    687\n",
            "17                      Sheila Nezhad  30369\n",
            "18                   Troy Benjegerdes    184\n"
          ]
        }
      ],
      "source": [
        "# Group by the first-ranked candidate and sum the counts, then convert to DataFrame\n",
        "first_rank_counts_df = aggregated_data.groupby('1st')['Count'].sum().reset_index()\n",
        "\n",
        "# Rename the columns\n",
        "first_rank_counts_df.columns = ['Candidate', 'Count']\n",
        "\n",
        "# Set the index to start from 1\n",
        "first_rank_counts_df.index = first_rank_counts_df.index + 1\n",
        "\n",
        "print(first_rank_counts_df)"
      ]
    }
  ],
  "metadata": {
    "colab": {
      "provenance": []
    },
    "kernelspec": {
      "display_name": "Python 3",
      "name": "python3"
    },
    "language_info": {
      "codemirror_mode": {
        "name": "ipython",
        "version": 3
      },
      "file_extension": ".py",
      "mimetype": "text/x-python",
      "name": "python",
      "nbconvert_exporter": "python",
      "pygments_lexer": "ipython3",
      "version": "3.12.3"
    }
  },
  "nbformat": 4,
  "nbformat_minor": 0
}
