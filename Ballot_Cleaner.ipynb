{
  "cells": [
    {
      "cell_type": "markdown",
      "metadata": {},
      "source": [
        "Cleans data for 2017 mayor ballots"
      ]
    },
    {
      "cell_type": "code",
      "execution_count": 11,
      "metadata": {
        "id": "EUZo0VqPSD_T"
      },
      "outputs": [],
      "source": [
        "import pandas as pd\n",
        "import numpy as np\n",
        "import os\n",
        "from pathfinder import csvfinder\n",
        "\n",
        "csv_file = r\"2017-Mayor-Ballot-Records.csv\" #Change file name here/other data cleaning tasks below when dealing with different datasets\n",
        "file_path = csvfinder(csv_file)\n",
        "\n",
        "#Load the CSV file\n",
        "data = pd.read_csv(file_path)"
      ]
    },
    {
      "cell_type": "code",
      "execution_count": 12,
      "metadata": {
        "colab": {
          "base_uri": "https://localhost:8080/",
          "height": 423
        },
        "id": "jA87aKj_THlv",
        "outputId": "e0fa0afe-02d6-47b7-ce64-f7ae73ef3fcf"
      },
      "outputs": [],
      "source": [
        "data = pd.read_csv(file_path)\n",
        "data.rename(columns={\n",
        "    '1st Choice': '1st',\n",
        "    '2nd Choice': '2nd',\n",
        "    '3rd Choice': '3rd',\n",
        "    'Precinct': 'Precinct',\n",
        "    'Count': 'Count'\n",
        "}, inplace=True)\n",
        "data.to_csv(file_path, index = False)"
      ]
    },
    {
      "cell_type": "markdown",
      "metadata": {
        "id": "oOGdTXCPtSJK"
      },
      "source": [
        "Remove invalid votes"
      ]
    },
    {
      "cell_type": "code",
      "execution_count": 13,
      "metadata": {
        "colab": {
          "base_uri": "https://localhost:8080/",
          "height": 423
        },
        "id": "TyDSwBHcUuuW",
        "outputId": "3d8dc5bf-0a8b-4c99-c580-6c09059290ad"
      },
      "outputs": [],
      "source": [
        "#Define the list of values to filter out\n",
        "undesired_values = [\"undervote\", \"overvote\", \"defective\"]\n",
        "\n",
        "cleaned_data = data.copy()\n",
        "\n",
        "#Replace undesired values with NA\n",
        "cleaned_data.replace(undesired_values, np.nan, inplace=True)\n",
        "\n",
        "# Filter out rows where all of the specified columns have undesired values\n",
        "# cleaned_data = data[~data[['1st', '2nd', '3rd']].isin(undesired_values).any(axis=1)]\n",
        "#cleaned_data = data[~(data['1st'].isin(undesired_values) &\n",
        " #                     data['2nd'].isin(undesired_values) &\n",
        " #                     data['3rd'].isin(undesired_values))]\n",
        "cleaned_data = cleaned_data.dropna(subset=['1st', '2nd', '3rd'], how='all')\n",
        "\n",
        "#Drop Precinct column\n",
        "cleaned_data = cleaned_data.drop(columns=['Precinct'])\n",
        "\n",
        "#Display the first few rows of the cleaned dataframe to verify the changes\n",
        "cleaned_data\n",
        "\n",
        "data.to_csv(file_path, index = False)"
      ]
    },
    {
      "cell_type": "code",
      "execution_count": 14,
      "metadata": {
        "colab": {
          "base_uri": "https://localhost:8080/"
        },
        "collapsed": true,
        "id": "0AafibCHKo4Y",
        "outputId": "bb75fbac-001c-47be-8465-d8ab00b1e50c"
      },
      "outputs": [
        {
          "name": "stdout",
          "output_type": "stream",
          "text": [
            "                     1st                 2nd                 3rd  Count\n",
            "0            Ian Simpson          Jacob Frey        Betsy Hodges      1\n",
            "1        Ronald Lischeid        Aswar Rahman  Nekima Levy-Pounds      1\n",
            "2        Ronald Lischeid        Aswar Rahman        Raymond Dehn      1\n",
            "3        Ronald Lischeid        Aswar Rahman            Tom Hoch      1\n",
            "4             Jacob Frey        Charlie Gers          Jacob Frey      1\n",
            "...                  ...                 ...                 ...    ...\n",
            "2500            Tom Hoch          Jacob Frey        Betsy Hodges   2069\n",
            "2501        Raymond Dehn        Betsy Hodges  Nekima Levy-Pounds   2115\n",
            "2502  Nekima Levy-Pounds        Raymond Dehn        Betsy Hodges   2187\n",
            "2503          Jacob Frey            Tom Hoch        Betsy Hodges   2676\n",
            "2504        Raymond Dehn  Nekima Levy-Pounds        Betsy Hodges   3411\n",
            "\n",
            "[2505 rows x 4 columns]\n"
          ]
        }
      ],
      "source": [
        "print(cleaned_data.groupby(['1st', '2nd', '3rd']).agg({'Count': 'sum'}).reset_index().sort_values(by='Count', ascending=True, ignore_index=True))"
      ]
    },
    {
      "cell_type": "markdown",
      "metadata": {
        "id": "KPB6qOOWvcVE"
      },
      "source": [
        "Edit invalid choices in votes"
      ]
    },
    {
      "cell_type": "code",
      "execution_count": 15,
      "metadata": {
        "colab": {
          "base_uri": "https://localhost:8080/",
          "height": 423
        },
        "id": "p3RkM0st29z_",
        "outputId": "d53bf8c8-a839-42a6-c2b2-f498e00c4d38"
      },
      "outputs": [],
      "source": [
        "# Identify rows where 1st == 2nd == 3rd\n",
        "condition_all = (cleaned_data['1st'] == cleaned_data['2nd']) & (cleaned_data['1st'] == cleaned_data['3rd']) & (cleaned_data[\"1st\"] != \"UWI\")\n",
        "\n",
        "# Change col2 and col3 to NaN for those rows\n",
        "cleaned_data.loc[condition_all, ['2nd', '3rd']] = np.nan\n",
        "\n",
        "# Identify rows\n",
        "condition_1st_3rd_equal = (cleaned_data['1st'] == cleaned_data['3rd']) & (cleaned_data[\"1st\"] != \"UWI\")\n",
        "condition_2nd_3rd_equal = (cleaned_data['2nd'] == cleaned_data['3rd']) & (cleaned_data[\"2nd\"] != \"UWI\")\n",
        "condition_1st_2nd_equal = (cleaned_data['1st'] == cleaned_data['2nd']) & (cleaned_data[\"1st\"] != \"UWI\")\n",
        "\n",
        "# Change 3rd to NaN for those rows\n",
        "cleaned_data.loc[condition_1st_3rd_equal, '3rd'] = np.nan\n",
        "cleaned_data.loc[condition_2nd_3rd_equal, '3rd'] = np.nan\n",
        "cleaned_data.loc[condition_1st_2nd_equal, '2nd'] = np.nan\n",
        "\n",
        "# Check if '1st' and '2nd' are NaN\n",
        "condition = cleaned_data['1st'].isna() & cleaned_data['2nd'].isna()\n",
        "\n",
        "# Apply the condition and update the values\n",
        "cleaned_data.loc[condition, '1st'] = cleaned_data.loc[condition, '3rd']\n",
        "cleaned_data.loc[condition, '3rd'] = np.nan\n",
        "\n",
        "# Check if '2nd' are NaN\n",
        "condition = cleaned_data['2nd'].isna()\n",
        "\n",
        "# Apply the condition and update the values\n",
        "cleaned_data.loc[condition, '2nd'] = cleaned_data.loc[condition, '3rd']\n",
        "cleaned_data.loc[condition, '3rd'] = np.nan\n",
        "\n",
        "# Check if '1st' are NaN\n",
        "condition = cleaned_data['1st'].isna()\n",
        "\n",
        "# Apply the condition and update the values\n",
        "cleaned_data.loc[condition, '1st'] = cleaned_data.loc[condition, '2nd']\n",
        "cleaned_data.loc[condition, '2nd'] = np.nan\n",
        "\n",
        "cleaned_data\n",
        "\n",
        "cleaned_data.to_csv(file_path, index = False)"
      ]
    },
    {
      "cell_type": "markdown",
      "metadata": {
        "id": "Hrj1-evKGN3g"
      },
      "source": [
        "Aggregate Data"
      ]
    },
    {
      "cell_type": "code",
      "execution_count": 16,
      "metadata": {
        "colab": {
          "base_uri": "https://localhost:8080/"
        },
        "id": "kh2iLMggGRnL",
        "outputId": "0fdd081c-d8c8-4c94-cac9-3910481484a9"
      },
      "outputs": [
        {
          "name": "stdout",
          "output_type": "stream",
          "text": [
            "             1st                 2nd                   3rd  Count\n",
            "0     Al Flowers        Aswar Rahman          Betsy Hodges      4\n",
            "1     Al Flowers                Null            Jacob Frey      2\n",
            "2     Al Flowers                Null      Gregg A. Iverson      1\n",
            "3     Al Flowers  Nekima Levy-Pounds                   UWI      1\n",
            "4     Al Flowers  Nekima Levy-Pounds              Tom Hoch     16\n",
            "...          ...                 ...                   ...    ...\n",
            "2525         UWI   David John Wilson  Captain Jack Sparrow      1\n",
            "2526         UWI   David John Wilson                  Null      1\n",
            "2527         UWI   David John Wilson                   UWI      1\n",
            "2528         UWI     David Rosenfeld                  Null      1\n",
            "2529         UWI                 UWI                   UWI     34\n",
            "\n",
            "[2530 rows x 4 columns]\n"
          ]
        }
      ],
      "source": [
        "cleaned_data = cleaned_data.fillna('Null')\n",
        "aggregated_data = cleaned_data.groupby(['1st', '2nd', '3rd']).agg({'Count': 'sum'}).reset_index().sort_values(by='1st', ascending=True, ignore_index=True)\n",
        "print(aggregated_data)\n",
        "\n",
        "cleaned_data.to_csv(file_path, index = False)"
      ]
    },
    {
      "cell_type": "markdown",
      "metadata": {
        "id": "GnSStjFrJhI2"
      },
      "source": [
        "Round 1 1st Rank"
      ]
    },
    {
      "cell_type": "code",
      "execution_count": 17,
      "metadata": {
        "colab": {
          "base_uri": "https://localhost:8080/"
        },
        "id": "L51laeIYJjVR",
        "outputId": "1db02496-c4ae-4166-f732-b7f54ceddbed"
      },
      "outputs": [
        {
          "name": "stdout",
          "output_type": "stream",
          "text": [
            "                Candidate  Count\n",
            "1              Al Flowers    711\n",
            "2            Aswar Rahman    756\n",
            "3            Betsy Hodges  18915\n",
            "4    Captain Jack Sparrow    438\n",
            "5            Charlie Gers   1233\n",
            "6   Christopher Zimmerman      1\n",
            "7       David John Wilson    220\n",
            "8         David Rosenfeld    477\n",
            "9        Gregg A. Iverson    335\n",
            "10            Ian Simpson    119\n",
            "11             Jacob Frey  26116\n",
            "12               L.A. Nik    612\n",
            "13     Nekima Levy-Pounds  15716\n",
            "14           Raymond Dehn  18102\n",
            "15        Ronald Lischeid    325\n",
            "16               Tom Hoch  20125\n",
            "17       Troy Benjegerdes    184\n",
            "18                    UWI    138\n"
          ]
        }
      ],
      "source": [
        "# Group by the first-ranked candidate and sum the counts, then convert to DataFrame\n",
        "first_rank_counts_df = aggregated_data.groupby('1st')['Count'].sum().reset_index()\n",
        "\n",
        "# Rename the columns\n",
        "first_rank_counts_df.columns = ['Candidate', 'Count']\n",
        "\n",
        "# Set the index to start from 1\n",
        "first_rank_counts_df.index = first_rank_counts_df.index + 1\n",
        "\n",
        "print(first_rank_counts_df)\n",
        "\n",
        "cleaned_data.to_csv(file_path, index = False)"
      ]
    },
    {
      "cell_type": "markdown",
      "metadata": {
        "id": "kRDOVynrqtIO"
      },
      "source": [
        "Next round: remove UWI"
      ]
    },
    {
      "cell_type": "code",
      "execution_count": 18,
      "metadata": {
        "colab": {
          "base_uri": "https://localhost:8080/"
        },
        "id": "JFt9LiXeqwHp",
        "outputId": "eb7607ae-a7bd-46b1-9287-1f4c550d980e"
      },
      "outputs": [
        {
          "name": "stdout",
          "output_type": "stream",
          "text": [
            "                       1st                 2nd           3rd  Count\n",
            "0               Jacob Frey  Nekima Levy-Pounds  Raymond Dehn      1\n",
            "1                 Tom Hoch          Jacob Frey  Betsy Hodges      1\n",
            "2               Jacob Frey                 NaN           NaN      1\n",
            "3       Nekima Levy-Pounds        Betsy Hodges  Raymond Dehn      1\n",
            "4               Jacob Frey                 NaN           NaN      1\n",
            "...                    ...                 ...           ...    ...\n",
            "105924          Jacob Frey  Nekima Levy-Pounds      Tom Hoch      1\n",
            "105925        Raymond Dehn  Nekima Levy-Pounds  Betsy Hodges      1\n",
            "105926        Betsy Hodges                 NaN           NaN      1\n",
            "105927  Nekima Levy-Pounds          Jacob Frey           NaN      1\n",
            "105928        Raymond Dehn  Nekima Levy-Pounds  Betsy Hodges      1\n",
            "\n",
            "[104436 rows x 4 columns]\n"
          ]
        }
      ],
      "source": [
        "cleaned_data.replace(\"UWI\", np.nan, inplace=True)\n",
        "cleaned_data.replace(\"Null\", np.nan, inplace=True)\n",
        "\n",
        "#Repeat Steps\n",
        "cleaned_data = cleaned_data.dropna(subset=['1st', '2nd', '3rd'], how='all')\n",
        "\n",
        "#Repeat Steps\n",
        "\n",
        "# Check if '1st' and '2nd' are NaN\n",
        "condition = cleaned_data['1st'].isna() & cleaned_data['2nd'].isna()\n",
        "\n",
        "# Apply the condition and update the values\n",
        "cleaned_data.loc[condition, '1st'] = cleaned_data.loc[condition, '3rd']\n",
        "cleaned_data.loc[condition, '3rd'] = np.nan\n",
        "\n",
        "# Check if '2nd' are NaN\n",
        "condition = cleaned_data['2nd'].isna()\n",
        "\n",
        "# Apply the condition and update the values\n",
        "cleaned_data.loc[condition, '2nd'] = cleaned_data.loc[condition, '3rd']\n",
        "cleaned_data.loc[condition, '3rd'] = np.nan\n",
        "\n",
        "# Check if '1st' are NaN\n",
        "condition = cleaned_data['1st'].isna()\n",
        "\n",
        "# Apply the condition and update the values\n",
        "cleaned_data.loc[condition, '1st'] = cleaned_data.loc[condition, '2nd']\n",
        "cleaned_data.loc[condition, '2nd'] = np.nan\n",
        "\n",
        "print(cleaned_data)\n",
        "\n",
        "cleaned_data.to_csv(file_path, index = False)"
      ]
    },
    {
      "cell_type": "markdown",
      "metadata": {
        "id": "jKHik3rhuBO-"
      },
      "source": [
        "Aggregate"
      ]
    },
    {
      "cell_type": "code",
      "execution_count": 19,
      "metadata": {
        "colab": {
          "base_uri": "https://localhost:8080/"
        },
        "id": "RDGrCJsTuJKL",
        "outputId": "5d0c93e3-43e3-4740-9a84-77c380f9399f"
      },
      "outputs": [
        {
          "name": "stdout",
          "output_type": "stream",
          "text": [
            "                   1st                   2nd                   3rd  Count\n",
            "0           Al Flowers          Aswar Rahman          Betsy Hodges      4\n",
            "1           Al Flowers    Nekima Levy-Pounds       Ronald Lischeid      2\n",
            "2           Al Flowers    Nekima Levy-Pounds          Raymond Dehn     18\n",
            "3           Al Flowers    Nekima Levy-Pounds                  Null     25\n",
            "4           Al Flowers    Nekima Levy-Pounds            Jacob Frey     16\n",
            "...                ...                   ...                   ...    ...\n",
            "2359  Troy Benjegerdes          Charlie Gers  Captain Jack Sparrow      1\n",
            "2360  Troy Benjegerdes          Charlie Gers          Betsy Hodges      1\n",
            "2361  Troy Benjegerdes  Captain Jack Sparrow              Tom Hoch      1\n",
            "2362  Troy Benjegerdes  Captain Jack Sparrow          Raymond Dehn      1\n",
            "2363  Troy Benjegerdes              Tom Hoch          Raymond Dehn      2\n",
            "\n",
            "[2364 rows x 4 columns]\n"
          ]
        }
      ],
      "source": [
        "cleaned_data = cleaned_data.fillna('Null')\n",
        "aggregated_data = cleaned_data.groupby(['1st', '2nd', '3rd']).agg({'Count': 'sum'}).reset_index().sort_values(by='1st', ascending=True, ignore_index=True)\n",
        "print(aggregated_data)\n",
        "\n",
        "cleaned_data.to_csv(file_path, index = False)"
      ]
    },
    {
      "cell_type": "markdown",
      "metadata": {
        "id": "lqdmWhZVw6Jx"
      },
      "source": [
        "Round 2 first rank"
      ]
    },
    {
      "cell_type": "code",
      "execution_count": 20,
      "metadata": {
        "colab": {
          "base_uri": "https://localhost:8080/"
        },
        "id": "fD0RpMezw7yX",
        "outputId": "ca527dea-b14a-4073-cd7a-44298b7f2485"
      },
      "outputs": [
        {
          "name": "stdout",
          "output_type": "stream",
          "text": [
            "                Candidate  Count\n",
            "1              Al Flowers    713\n",
            "2            Aswar Rahman    756\n",
            "3            Betsy Hodges  18921\n",
            "4    Captain Jack Sparrow    443\n",
            "5            Charlie Gers   1238\n",
            "6   Christopher Zimmerman      1\n",
            "7       David John Wilson    224\n",
            "8         David Rosenfeld    480\n",
            "9        Gregg A. Iverson    337\n",
            "10            Ian Simpson    119\n",
            "11             Jacob Frey  26124\n",
            "12               L.A. Nik    616\n",
            "13     Nekima Levy-Pounds  15718\n",
            "14           Raymond Dehn  18105\n",
            "15        Ronald Lischeid    325\n",
            "16               Tom Hoch  20131\n",
            "17       Troy Benjegerdes    185\n"
          ]
        }
      ],
      "source": [
        "# Group by the first-ranked candidate and sum the counts, then convert to DataFrame\n",
        "first_rank_counts_df = aggregated_data.groupby('1st')['Count'].sum().reset_index()\n",
        "\n",
        "# Rename the columns\n",
        "first_rank_counts_df.columns = ['Candidate', 'Count']\n",
        "\n",
        "# Set the index to start from 1\n",
        "first_rank_counts_df.index = first_rank_counts_df.index + 1\n",
        "\n",
        "print(first_rank_counts_df)\n",
        "\n",
        "cleaned_data.to_csv(file_path, index = False)"
      ]
    },
    {
      "cell_type": "markdown",
      "metadata": {
        "id": "oABQI7EazNes"
      },
      "source": [
        "Aggregate"
      ]
    },
    {
      "cell_type": "code",
      "execution_count": 21,
      "metadata": {
        "colab": {
          "base_uri": "https://localhost:8080/"
        },
        "id": "ZfV2yvrIzOy7",
        "outputId": "f22bd01f-3fe6-437d-a7d0-56bcad40f67f"
      },
      "outputs": [
        {
          "name": "stdout",
          "output_type": "stream",
          "text": [
            "                   1st                   2nd                   3rd  Count\n",
            "0           Al Flowers          Aswar Rahman          Betsy Hodges      4\n",
            "1           Al Flowers    Nekima Levy-Pounds       Ronald Lischeid      2\n",
            "2           Al Flowers    Nekima Levy-Pounds          Raymond Dehn     18\n",
            "3           Al Flowers    Nekima Levy-Pounds                  Null     25\n",
            "4           Al Flowers    Nekima Levy-Pounds            Jacob Frey     16\n",
            "...                ...                   ...                   ...    ...\n",
            "2359  Troy Benjegerdes          Charlie Gers  Captain Jack Sparrow      1\n",
            "2360  Troy Benjegerdes          Charlie Gers          Betsy Hodges      1\n",
            "2361  Troy Benjegerdes  Captain Jack Sparrow              Tom Hoch      1\n",
            "2362  Troy Benjegerdes  Captain Jack Sparrow          Raymond Dehn      1\n",
            "2363  Troy Benjegerdes              Tom Hoch          Raymond Dehn      2\n",
            "\n",
            "[2364 rows x 4 columns]\n"
          ]
        }
      ],
      "source": [
        "cleaned_data = cleaned_data.fillna('Null')\n",
        "aggregated_data = cleaned_data.groupby(['1st', '2nd', '3rd']).agg({'Count': 'sum'}).reset_index().sort_values(by='1st', ascending=True, ignore_index=True)\n",
        "print(aggregated_data)\n",
        "\n",
        "cleaned_data.to_csv(file_path, index = False)"
      ]
    },
    {
      "cell_type": "markdown",
      "metadata": {
        "id": "jnUSR6bt0S4M"
      },
      "source": [
        "Round 3 first rank"
      ]
    },
    {
      "cell_type": "code",
      "execution_count": 22,
      "metadata": {
        "colab": {
          "base_uri": "https://localhost:8080/"
        },
        "id": "WLB_s13N0VnP",
        "outputId": "bca9b9c1-92fe-4e30-94e9-ec8cf98adea3"
      },
      "outputs": [
        {
          "name": "stdout",
          "output_type": "stream",
          "text": [
            "                Candidate  Count\n",
            "1              Al Flowers    713\n",
            "2            Aswar Rahman    756\n",
            "3            Betsy Hodges  18921\n",
            "4    Captain Jack Sparrow    443\n",
            "5            Charlie Gers   1238\n",
            "6   Christopher Zimmerman      1\n",
            "7       David John Wilson    224\n",
            "8         David Rosenfeld    480\n",
            "9        Gregg A. Iverson    337\n",
            "10            Ian Simpson    119\n",
            "11             Jacob Frey  26124\n",
            "12               L.A. Nik    616\n",
            "13     Nekima Levy-Pounds  15718\n",
            "14           Raymond Dehn  18105\n",
            "15        Ronald Lischeid    325\n",
            "16               Tom Hoch  20131\n",
            "17       Troy Benjegerdes    185\n"
          ]
        }
      ],
      "source": [
        "# Group by the first-ranked candidate and sum the counts, then convert to DataFrame\n",
        "first_rank_counts_df = aggregated_data.groupby('1st')['Count'].sum().reset_index()\n",
        "\n",
        "# Rename the columns\n",
        "first_rank_counts_df.columns = ['Candidate', 'Count']\n",
        "\n",
        "# Set the index to start from 1\n",
        "first_rank_counts_df.index = first_rank_counts_df.index + 1\n",
        "\n",
        "print(first_rank_counts_df)"
      ]
    }
  ],
  "metadata": {
    "colab": {
      "provenance": []
    },
    "kernelspec": {
      "display_name": "Python 3",
      "name": "python3"
    },
    "language_info": {
      "codemirror_mode": {
        "name": "ipython",
        "version": 3
      },
      "file_extension": ".py",
      "mimetype": "text/x-python",
      "name": "python",
      "nbconvert_exporter": "python",
      "pygments_lexer": "ipython3",
      "version": "3.12.3"
    }
  },
  "nbformat": 4,
  "nbformat_minor": 0
}
