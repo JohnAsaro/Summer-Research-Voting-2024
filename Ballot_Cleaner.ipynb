{
  "cells": [
    {
      "cell_type": "markdown",
      "metadata": {},
      "source": [
        "Cleans data for 2017 mayor ballots"
      ]
    },
    {
      "cell_type": "code",
      "execution_count": 1,
      "metadata": {
        "id": "EUZo0VqPSD_T"
      },
      "outputs": [],
      "source": [
        "import pandas as pd\n",
        "import numpy as np\n",
        "import os\n",
        "from pathfinder import csvfinder\n",
        "\n",
        "csv_file = r\"2017-Mayor-Ballot-Records.csv\" #Change file name here/other data cleaning tasks below when dealing with different datasets\n",
        "file_path = csvfinder(csv_file)\n",
        "\n",
        "#Load the CSV file\n",
        "data = pd.read_csv(file_path)"
      ]
    },
    {
      "cell_type": "code",
      "execution_count": 2,
      "metadata": {
        "colab": {
          "base_uri": "https://localhost:8080/",
          "height": 423
        },
        "id": "jA87aKj_THlv",
        "outputId": "e0fa0afe-02d6-47b7-ce64-f7ae73ef3fcf"
      },
      "outputs": [],
      "source": [
        "data = pd.read_csv(file_path)\n",
        "data.rename(columns={\n",
        "    '1st Choice': '1st',\n",
        "    '2nd Choice': '2nd',\n",
        "    '3rd Choice': '3rd',\n",
        "    'Precinct': 'Precinct',\n",
        "    'Count': 'Count'\n",
        "}, inplace=True)\n",
        "data.to_csv(file_path, index = False)"
      ]
    },
    {
      "cell_type": "markdown",
      "metadata": {
        "id": "oOGdTXCPtSJK"
      },
      "source": [
        "Remove invalid votes"
      ]
    },
    {
      "cell_type": "code",
      "execution_count": 52,
      "metadata": {
        "colab": {
          "base_uri": "https://localhost:8080/",
          "height": 423
        },
        "id": "TyDSwBHcUuuW",
        "outputId": "3d8dc5bf-0a8b-4c99-c580-6c09059290ad"
      },
      "outputs": [
        {
          "ename": "KeyError",
          "evalue": "\"['Precinct'] not found in axis\"",
          "output_type": "error",
          "traceback": [
            "\u001b[1;31m---------------------------------------------------------------------------\u001b[0m",
            "\u001b[1;31mKeyError\u001b[0m                                  Traceback (most recent call last)",
            "Cell \u001b[1;32mIn[52], line 17\u001b[0m\n\u001b[0;32m     14\u001b[0m cleaned_data \u001b[38;5;241m=\u001b[39m cleaned_data\u001b[38;5;241m.\u001b[39mdropna(subset\u001b[38;5;241m=\u001b[39m[\u001b[38;5;124m'\u001b[39m\u001b[38;5;124m1st\u001b[39m\u001b[38;5;124m'\u001b[39m, \u001b[38;5;124m'\u001b[39m\u001b[38;5;124m2nd\u001b[39m\u001b[38;5;124m'\u001b[39m, \u001b[38;5;124m'\u001b[39m\u001b[38;5;124m3rd\u001b[39m\u001b[38;5;124m'\u001b[39m], how\u001b[38;5;241m=\u001b[39m\u001b[38;5;124m'\u001b[39m\u001b[38;5;124mall\u001b[39m\u001b[38;5;124m'\u001b[39m)\n\u001b[0;32m     16\u001b[0m \u001b[38;5;66;03m#Drop column Precinct\u001b[39;00m\n\u001b[1;32m---> 17\u001b[0m cleaned_data \u001b[38;5;241m=\u001b[39m \u001b[43mcleaned_data\u001b[49m\u001b[38;5;241;43m.\u001b[39;49m\u001b[43mdrop\u001b[49m\u001b[43m(\u001b[49m\u001b[43mcolumns\u001b[49m\u001b[38;5;241;43m=\u001b[39;49m\u001b[43m[\u001b[49m\u001b[38;5;124;43m'\u001b[39;49m\u001b[38;5;124;43mPrecinct\u001b[39;49m\u001b[38;5;124;43m'\u001b[39;49m\u001b[43m]\u001b[49m\u001b[43m)\u001b[49m\n\u001b[0;32m     19\u001b[0m \u001b[38;5;66;03m#Display the first few rows of the cleaned dataframe to verify the changes\u001b[39;00m\n\u001b[0;32m     20\u001b[0m cleaned_data\n",
            "File \u001b[1;32mc:\\Python312\\Lib\\site-packages\\pandas\\core\\frame.py:5581\u001b[0m, in \u001b[0;36mDataFrame.drop\u001b[1;34m(self, labels, axis, index, columns, level, inplace, errors)\u001b[0m\n\u001b[0;32m   5433\u001b[0m \u001b[38;5;28;01mdef\u001b[39;00m \u001b[38;5;21mdrop\u001b[39m(\n\u001b[0;32m   5434\u001b[0m     \u001b[38;5;28mself\u001b[39m,\n\u001b[0;32m   5435\u001b[0m     labels: IndexLabel \u001b[38;5;241m|\u001b[39m \u001b[38;5;28;01mNone\u001b[39;00m \u001b[38;5;241m=\u001b[39m \u001b[38;5;28;01mNone\u001b[39;00m,\n\u001b[1;32m   (...)\u001b[0m\n\u001b[0;32m   5442\u001b[0m     errors: IgnoreRaise \u001b[38;5;241m=\u001b[39m \u001b[38;5;124m\"\u001b[39m\u001b[38;5;124mraise\u001b[39m\u001b[38;5;124m\"\u001b[39m,\n\u001b[0;32m   5443\u001b[0m ) \u001b[38;5;241m-\u001b[39m\u001b[38;5;241m>\u001b[39m DataFrame \u001b[38;5;241m|\u001b[39m \u001b[38;5;28;01mNone\u001b[39;00m:\n\u001b[0;32m   5444\u001b[0m \u001b[38;5;250m    \u001b[39m\u001b[38;5;124;03m\"\"\"\u001b[39;00m\n\u001b[0;32m   5445\u001b[0m \u001b[38;5;124;03m    Drop specified labels from rows or columns.\u001b[39;00m\n\u001b[0;32m   5446\u001b[0m \n\u001b[1;32m   (...)\u001b[0m\n\u001b[0;32m   5579\u001b[0m \u001b[38;5;124;03m            weight  1.0     0.8\u001b[39;00m\n\u001b[0;32m   5580\u001b[0m \u001b[38;5;124;03m    \"\"\"\u001b[39;00m\n\u001b[1;32m-> 5581\u001b[0m     \u001b[38;5;28;01mreturn\u001b[39;00m \u001b[38;5;28;43msuper\u001b[39;49m\u001b[43m(\u001b[49m\u001b[43m)\u001b[49m\u001b[38;5;241;43m.\u001b[39;49m\u001b[43mdrop\u001b[49m\u001b[43m(\u001b[49m\n\u001b[0;32m   5582\u001b[0m \u001b[43m        \u001b[49m\u001b[43mlabels\u001b[49m\u001b[38;5;241;43m=\u001b[39;49m\u001b[43mlabels\u001b[49m\u001b[43m,\u001b[49m\n\u001b[0;32m   5583\u001b[0m \u001b[43m        \u001b[49m\u001b[43maxis\u001b[49m\u001b[38;5;241;43m=\u001b[39;49m\u001b[43maxis\u001b[49m\u001b[43m,\u001b[49m\n\u001b[0;32m   5584\u001b[0m \u001b[43m        \u001b[49m\u001b[43mindex\u001b[49m\u001b[38;5;241;43m=\u001b[39;49m\u001b[43mindex\u001b[49m\u001b[43m,\u001b[49m\n\u001b[0;32m   5585\u001b[0m \u001b[43m        \u001b[49m\u001b[43mcolumns\u001b[49m\u001b[38;5;241;43m=\u001b[39;49m\u001b[43mcolumns\u001b[49m\u001b[43m,\u001b[49m\n\u001b[0;32m   5586\u001b[0m \u001b[43m        \u001b[49m\u001b[43mlevel\u001b[49m\u001b[38;5;241;43m=\u001b[39;49m\u001b[43mlevel\u001b[49m\u001b[43m,\u001b[49m\n\u001b[0;32m   5587\u001b[0m \u001b[43m        \u001b[49m\u001b[43minplace\u001b[49m\u001b[38;5;241;43m=\u001b[39;49m\u001b[43minplace\u001b[49m\u001b[43m,\u001b[49m\n\u001b[0;32m   5588\u001b[0m \u001b[43m        \u001b[49m\u001b[43merrors\u001b[49m\u001b[38;5;241;43m=\u001b[39;49m\u001b[43merrors\u001b[49m\u001b[43m,\u001b[49m\n\u001b[0;32m   5589\u001b[0m \u001b[43m    \u001b[49m\u001b[43m)\u001b[49m\n",
            "File \u001b[1;32mc:\\Python312\\Lib\\site-packages\\pandas\\core\\generic.py:4788\u001b[0m, in \u001b[0;36mNDFrame.drop\u001b[1;34m(self, labels, axis, index, columns, level, inplace, errors)\u001b[0m\n\u001b[0;32m   4786\u001b[0m \u001b[38;5;28;01mfor\u001b[39;00m axis, labels \u001b[38;5;129;01min\u001b[39;00m axes\u001b[38;5;241m.\u001b[39mitems():\n\u001b[0;32m   4787\u001b[0m     \u001b[38;5;28;01mif\u001b[39;00m labels \u001b[38;5;129;01mis\u001b[39;00m \u001b[38;5;129;01mnot\u001b[39;00m \u001b[38;5;28;01mNone\u001b[39;00m:\n\u001b[1;32m-> 4788\u001b[0m         obj \u001b[38;5;241m=\u001b[39m \u001b[43mobj\u001b[49m\u001b[38;5;241;43m.\u001b[39;49m\u001b[43m_drop_axis\u001b[49m\u001b[43m(\u001b[49m\u001b[43mlabels\u001b[49m\u001b[43m,\u001b[49m\u001b[43m \u001b[49m\u001b[43maxis\u001b[49m\u001b[43m,\u001b[49m\u001b[43m \u001b[49m\u001b[43mlevel\u001b[49m\u001b[38;5;241;43m=\u001b[39;49m\u001b[43mlevel\u001b[49m\u001b[43m,\u001b[49m\u001b[43m \u001b[49m\u001b[43merrors\u001b[49m\u001b[38;5;241;43m=\u001b[39;49m\u001b[43merrors\u001b[49m\u001b[43m)\u001b[49m\n\u001b[0;32m   4790\u001b[0m \u001b[38;5;28;01mif\u001b[39;00m inplace:\n\u001b[0;32m   4791\u001b[0m     \u001b[38;5;28mself\u001b[39m\u001b[38;5;241m.\u001b[39m_update_inplace(obj)\n",
            "File \u001b[1;32mc:\\Python312\\Lib\\site-packages\\pandas\\core\\generic.py:4830\u001b[0m, in \u001b[0;36mNDFrame._drop_axis\u001b[1;34m(self, labels, axis, level, errors, only_slice)\u001b[0m\n\u001b[0;32m   4828\u001b[0m         new_axis \u001b[38;5;241m=\u001b[39m axis\u001b[38;5;241m.\u001b[39mdrop(labels, level\u001b[38;5;241m=\u001b[39mlevel, errors\u001b[38;5;241m=\u001b[39merrors)\n\u001b[0;32m   4829\u001b[0m     \u001b[38;5;28;01melse\u001b[39;00m:\n\u001b[1;32m-> 4830\u001b[0m         new_axis \u001b[38;5;241m=\u001b[39m \u001b[43maxis\u001b[49m\u001b[38;5;241;43m.\u001b[39;49m\u001b[43mdrop\u001b[49m\u001b[43m(\u001b[49m\u001b[43mlabels\u001b[49m\u001b[43m,\u001b[49m\u001b[43m \u001b[49m\u001b[43merrors\u001b[49m\u001b[38;5;241;43m=\u001b[39;49m\u001b[43merrors\u001b[49m\u001b[43m)\u001b[49m\n\u001b[0;32m   4831\u001b[0m     indexer \u001b[38;5;241m=\u001b[39m axis\u001b[38;5;241m.\u001b[39mget_indexer(new_axis)\n\u001b[0;32m   4833\u001b[0m \u001b[38;5;66;03m# Case for non-unique axis\u001b[39;00m\n\u001b[0;32m   4834\u001b[0m \u001b[38;5;28;01melse\u001b[39;00m:\n",
            "File \u001b[1;32mc:\\Python312\\Lib\\site-packages\\pandas\\core\\indexes\\base.py:7070\u001b[0m, in \u001b[0;36mIndex.drop\u001b[1;34m(self, labels, errors)\u001b[0m\n\u001b[0;32m   7068\u001b[0m \u001b[38;5;28;01mif\u001b[39;00m mask\u001b[38;5;241m.\u001b[39many():\n\u001b[0;32m   7069\u001b[0m     \u001b[38;5;28;01mif\u001b[39;00m errors \u001b[38;5;241m!=\u001b[39m \u001b[38;5;124m\"\u001b[39m\u001b[38;5;124mignore\u001b[39m\u001b[38;5;124m\"\u001b[39m:\n\u001b[1;32m-> 7070\u001b[0m         \u001b[38;5;28;01mraise\u001b[39;00m \u001b[38;5;167;01mKeyError\u001b[39;00m(\u001b[38;5;124mf\u001b[39m\u001b[38;5;124m\"\u001b[39m\u001b[38;5;132;01m{\u001b[39;00mlabels[mask]\u001b[38;5;241m.\u001b[39mtolist()\u001b[38;5;132;01m}\u001b[39;00m\u001b[38;5;124m not found in axis\u001b[39m\u001b[38;5;124m\"\u001b[39m)\n\u001b[0;32m   7071\u001b[0m     indexer \u001b[38;5;241m=\u001b[39m indexer[\u001b[38;5;241m~\u001b[39mmask]\n\u001b[0;32m   7072\u001b[0m \u001b[38;5;28;01mreturn\u001b[39;00m \u001b[38;5;28mself\u001b[39m\u001b[38;5;241m.\u001b[39mdelete(indexer)\n",
            "\u001b[1;31mKeyError\u001b[0m: \"['Precinct'] not found in axis\""
          ]
        }
      ],
      "source": [
        "#Define the list of values to filter out\n",
        "undesired_values = [\"undervote\", \"overvote\", \"defective\"]\n",
        "\n",
        "cleaned_data = data.copy()\n",
        "\n",
        "#Replace undesired values with NA\n",
        "cleaned_data.replace(undesired_values, np.nan, inplace=True);\n",
        "\n",
        "# Filter out rows where all of the specified columns have undesired values\n",
        "# cleaned_data = data[~data[['1st', '2nd', '3rd']].isin(undesired_values).any(axis=1)]\n",
        "#cleaned_data = data[~(data['1st'].isin(undesired_values) &\n",
        " #                     data['2nd'].isin(undesired_values) &\n",
        " #                     data['3rd'].isin(undesired_values))]\n",
        "cleaned_data = cleaned_data.dropna(subset=['1st', '2nd', '3rd'], how='all')\n",
        "\n",
        "#Drop column Precinct\n",
        "cleaned_data = cleaned_data.drop(columns=['Precinct'])\n",
        "\n",
        "#Display the first few rows of the cleaned dataframe to verify the changes\n",
        "cleaned_data\n",
        "\n",
        "data.to_csv(file_path, index = False)"
      ]
    },
    {
      "cell_type": "code",
      "execution_count": 53,
      "metadata": {
        "colab": {
          "base_uri": "https://localhost:8080/"
        },
        "collapsed": true,
        "id": "0AafibCHKo4Y",
        "outputId": "bb75fbac-001c-47be-8465-d8ab00b1e50c"
      },
      "outputs": [
        {
          "name": "stdout",
          "output_type": "stream",
          "text": [
            "                       1st                 2nd                 3rd  Count\n",
            "0                 L.A. Nik          Al Flowers        Betsy Hodges      1\n",
            "1     Captain Jack Sparrow            L.A. Nik    Gregg A. Iverson      1\n",
            "2         Gregg A. Iverson                Null            Tom Hoch      1\n",
            "3          Ronald Lischeid        Aswar Rahman                Null      1\n",
            "4     Captain Jack Sparrow            L.A. Nik  Nekima Levy-Pounds      1\n",
            "...                    ...                 ...                 ...    ...\n",
            "2359            Jacob Frey            Tom Hoch        Betsy Hodges   2676\n",
            "2360              Tom Hoch                Null                Null   2886\n",
            "2361          Betsy Hodges                Null                Null   3223\n",
            "2362          Raymond Dehn  Nekima Levy-Pounds        Betsy Hodges   3410\n",
            "2363            Jacob Frey                Null                Null   4672\n",
            "\n",
            "[2364 rows x 4 columns]\n"
          ]
        }
      ],
      "source": [
        "print(cleaned_data.groupby(['1st', '2nd', '3rd']).agg({'Count': 'sum'}).reset_index().sort_values(by='Count', ascending=True, ignore_index=True))"
      ]
    },
    {
      "cell_type": "markdown",
      "metadata": {
        "id": "KPB6qOOWvcVE"
      },
      "source": [
        "Edit invalid choices in votes"
      ]
    },
    {
      "cell_type": "code",
      "execution_count": 54,
      "metadata": {
        "colab": {
          "base_uri": "https://localhost:8080/",
          "height": 423
        },
        "id": "p3RkM0st29z_",
        "outputId": "d53bf8c8-a839-42a6-c2b2-f498e00c4d38"
      },
      "outputs": [],
      "source": [
        "# Identify rows where 1st == 2nd == 3rd\n",
        "condition_all = (cleaned_data['1st'] == cleaned_data['2nd']) & (cleaned_data['1st'] == cleaned_data['3rd']) & (cleaned_data[\"1st\"] != \"UWI\")\n",
        "\n",
        "# Change col2 and col3 to NaN for those rows\n",
        "cleaned_data.loc[condition_all, ['2nd', '3rd']] = np.nan\n",
        "\n",
        "# Identify rows\n",
        "condition_1st_3rd_equal = (cleaned_data['1st'] == cleaned_data['3rd']) & (cleaned_data[\"1st\"] != \"UWI\")\n",
        "condition_2nd_3rd_equal = (cleaned_data['2nd'] == cleaned_data['3rd']) & (cleaned_data[\"2nd\"] != \"UWI\")\n",
        "condition_1st_2nd_equal = (cleaned_data['1st'] == cleaned_data['2nd']) & (cleaned_data[\"1st\"] != \"UWI\")\n",
        "\n",
        "# Change 3rd to NaN for those rows\n",
        "cleaned_data.loc[condition_1st_3rd_equal, '3rd'] = np.nan\n",
        "cleaned_data.loc[condition_2nd_3rd_equal, '3rd'] = np.nan\n",
        "cleaned_data.loc[condition_1st_2nd_equal, '2nd'] = np.nan\n",
        "\n",
        "# Check if '1st' and '2nd' are NaN\n",
        "condition = cleaned_data['1st'].isna() & cleaned_data['2nd'].isna()\n",
        "\n",
        "# Apply the condition and update the values\n",
        "cleaned_data.loc[condition, '1st'] = cleaned_data.loc[condition, '3rd']\n",
        "cleaned_data.loc[condition, '3rd'] = np.nan\n",
        "\n",
        "# Check if '2nd' are NaN\n",
        "condition = cleaned_data['2nd'].isna()\n",
        "\n",
        "# Apply the condition and update the values\n",
        "cleaned_data.loc[condition, '2nd'] = cleaned_data.loc[condition, '3rd']\n",
        "cleaned_data.loc[condition, '3rd'] = np.nan\n",
        "\n",
        "# Check if '1st' are NaN\n",
        "condition = cleaned_data['1st'].isna()\n",
        "\n",
        "# Apply the condition and update the values\n",
        "cleaned_data.loc[condition, '1st'] = cleaned_data.loc[condition, '2nd']\n",
        "cleaned_data.loc[condition, '2nd'] = np.nan\n",
        "\n",
        "cleaned_data\n",
        "\n",
        "cleaned_data.to_csv(file_path, index = False)"
      ]
    },
    {
      "cell_type": "markdown",
      "metadata": {
        "id": "Hrj1-evKGN3g"
      },
      "source": [
        "Aggregate Data"
      ]
    },
    {
      "cell_type": "code",
      "execution_count": 55,
      "metadata": {
        "colab": {
          "base_uri": "https://localhost:8080/"
        },
        "id": "kh2iLMggGRnL",
        "outputId": "0fdd081c-d8c8-4c94-cac9-3910481484a9"
      },
      "outputs": [
        {
          "name": "stdout",
          "output_type": "stream",
          "text": [
            "                   1st                   2nd                   3rd  Count\n",
            "0           Al Flowers          Aswar Rahman          Betsy Hodges      4\n",
            "1           Al Flowers    Nekima Levy-Pounds       Ronald Lischeid      2\n",
            "2           Al Flowers    Nekima Levy-Pounds          Raymond Dehn     18\n",
            "3           Al Flowers    Nekima Levy-Pounds                  Null     25\n",
            "4           Al Flowers    Nekima Levy-Pounds            Jacob Frey     16\n",
            "...                ...                   ...                   ...    ...\n",
            "2359  Troy Benjegerdes          Charlie Gers  Captain Jack Sparrow      1\n",
            "2360  Troy Benjegerdes          Charlie Gers          Betsy Hodges      1\n",
            "2361  Troy Benjegerdes  Captain Jack Sparrow              Tom Hoch      1\n",
            "2362  Troy Benjegerdes  Captain Jack Sparrow          Raymond Dehn      1\n",
            "2363  Troy Benjegerdes              Tom Hoch          Raymond Dehn      2\n",
            "\n",
            "[2364 rows x 4 columns]\n"
          ]
        }
      ],
      "source": [
        "cleaned_data = cleaned_data.fillna('Null')\n",
        "aggregated_data = cleaned_data.groupby(['1st', '2nd', '3rd']).agg({'Count': 'sum'}).reset_index().sort_values(by='1st', ascending=True, ignore_index=True)\n",
        "print(aggregated_data)\n",
        "\n",
        "cleaned_data.to_csv(file_path, index = False)"
      ]
    },
    {
      "cell_type": "markdown",
      "metadata": {
        "id": "GnSStjFrJhI2"
      },
      "source": [
        "Round 1 1st Rank"
      ]
    },
    {
      "cell_type": "code",
      "execution_count": 56,
      "metadata": {
        "colab": {
          "base_uri": "https://localhost:8080/"
        },
        "id": "L51laeIYJjVR",
        "outputId": "1db02496-c4ae-4166-f732-b7f54ceddbed"
      },
      "outputs": [
        {
          "name": "stdout",
          "output_type": "stream",
          "text": [
            "                Candidate  Count\n",
            "1              Al Flowers    713\n",
            "2            Aswar Rahman    756\n",
            "3            Betsy Hodges  18921\n",
            "4    Captain Jack Sparrow    443\n",
            "5            Charlie Gers   1238\n",
            "6   Christopher Zimmerman      1\n",
            "7       David John Wilson    224\n",
            "8         David Rosenfeld    480\n",
            "9        Gregg A. Iverson    337\n",
            "10            Ian Simpson    119\n",
            "11             Jacob Frey  26124\n",
            "12               L.A. Nik    616\n",
            "13     Nekima Levy-Pounds  15718\n",
            "14           Raymond Dehn  18104\n",
            "15        Ronald Lischeid    325\n",
            "16               Tom Hoch  20131\n",
            "17       Troy Benjegerdes    185\n"
          ]
        }
      ],
      "source": [
        "# Group by the first-ranked candidate and sum the counts, then convert to DataFrame\n",
        "first_rank_counts_df = aggregated_data.groupby('1st')['Count'].sum().reset_index()\n",
        "\n",
        "# Rename the columns\n",
        "first_rank_counts_df.columns = ['Candidate', 'Count']\n",
        "\n",
        "# Set the index to start from 1\n",
        "first_rank_counts_df.index = first_rank_counts_df.index + 1\n",
        "\n",
        "print(first_rank_counts_df)\n",
        "\n",
        "cleaned_data.to_csv(file_path, index = False)"
      ]
    },
    {
      "cell_type": "markdown",
      "metadata": {
        "id": "kRDOVynrqtIO"
      },
      "source": [
        "Next round: remove UWI"
      ]
    },
    {
      "cell_type": "code",
      "execution_count": 57,
      "metadata": {
        "colab": {
          "base_uri": "https://localhost:8080/"
        },
        "id": "JFt9LiXeqwHp",
        "outputId": "eb7607ae-a7bd-46b1-9287-1f4c550d980e"
      },
      "outputs": [
        {
          "name": "stdout",
          "output_type": "stream",
          "text": [
            "                       1st                 2nd                   3rd  Count\n",
            "0               Jacob Frey  Nekima Levy-Pounds          Raymond Dehn      1\n",
            "1                 Tom Hoch          Jacob Frey          Betsy Hodges      1\n",
            "2               Jacob Frey                 NaN                   NaN      1\n",
            "3       Nekima Levy-Pounds        Betsy Hodges          Raymond Dehn      1\n",
            "4               Jacob Frey                 NaN                   NaN      1\n",
            "...                    ...                 ...                   ...    ...\n",
            "104430          Jacob Frey    Gregg A. Iverson  Captain Jack Sparrow      1\n",
            "104431          Jacob Frey  Nekima Levy-Pounds              Tom Hoch      1\n",
            "104432        Raymond Dehn  Nekima Levy-Pounds          Betsy Hodges      1\n",
            "104433        Betsy Hodges                 NaN                   NaN      1\n",
            "104434  Nekima Levy-Pounds          Jacob Frey                   NaN      1\n",
            "\n",
            "[104435 rows x 4 columns]\n"
          ]
        }
      ],
      "source": [
        "cleaned_data.replace(\"UWI\", np.nan, inplace=True)\n",
        "cleaned_data.replace(\"Null\", np.nan, inplace=True)\n",
        "\n",
        "#Repeat Steps\n",
        "cleaned_data = cleaned_data.dropna(subset=['1st', '2nd', '3rd'], how='all')\n",
        "\n",
        "#Repeat Steps\n",
        "\n",
        "# Check if '1st' and '2nd' are NaN\n",
        "condition = cleaned_data['1st'].isna() & cleaned_data['2nd'].isna()\n",
        "\n",
        "# Apply the condition and update the values\n",
        "cleaned_data.loc[condition, '1st'] = cleaned_data.loc[condition, '3rd']\n",
        "cleaned_data.loc[condition, '3rd'] = np.nan\n",
        "\n",
        "# Check if '2nd' are NaN\n",
        "condition = cleaned_data['2nd'].isna()\n",
        "\n",
        "# Apply the condition and update the values\n",
        "cleaned_data.loc[condition, '2nd'] = cleaned_data.loc[condition, '3rd']\n",
        "cleaned_data.loc[condition, '3rd'] = np.nan\n",
        "\n",
        "# Check if '1st' are NaN\n",
        "condition = cleaned_data['1st'].isna()\n",
        "\n",
        "# Apply the condition and update the values\n",
        "cleaned_data.loc[condition, '1st'] = cleaned_data.loc[condition, '2nd']\n",
        "cleaned_data.loc[condition, '2nd'] = np.nan\n",
        "\n",
        "print(cleaned_data)\n",
        "\n",
        "cleaned_data.to_csv(file_path, index = False)"
      ]
    },
    {
      "cell_type": "markdown",
      "metadata": {
        "id": "jKHik3rhuBO-"
      },
      "source": [
        "Aggregate"
      ]
    },
    {
      "cell_type": "code",
      "execution_count": 58,
      "metadata": {
        "colab": {
          "base_uri": "https://localhost:8080/"
        },
        "id": "RDGrCJsTuJKL",
        "outputId": "5d0c93e3-43e3-4740-9a84-77c380f9399f"
      },
      "outputs": [
        {
          "name": "stdout",
          "output_type": "stream",
          "text": [
            "                   1st                   2nd              3rd  Count\n",
            "0           Al Flowers          Aswar Rahman     Betsy Hodges      4\n",
            "1           Al Flowers    Nekima Levy-Pounds  Ronald Lischeid      2\n",
            "2           Al Flowers    Nekima Levy-Pounds     Raymond Dehn     18\n",
            "3           Al Flowers    Nekima Levy-Pounds             Null     25\n",
            "4           Al Flowers    Nekima Levy-Pounds       Jacob Frey     16\n",
            "...                ...                   ...              ...    ...\n",
            "2334  Troy Benjegerdes          Charlie Gers     Betsy Hodges      1\n",
            "2335  Troy Benjegerdes  Captain Jack Sparrow         Tom Hoch      1\n",
            "2336  Troy Benjegerdes  Captain Jack Sparrow  Ronald Lischeid      2\n",
            "2337  Troy Benjegerdes            Jacob Frey     Aswar Rahman      2\n",
            "2338  Troy Benjegerdes              Tom Hoch     Raymond Dehn      2\n",
            "\n",
            "[2339 rows x 4 columns]\n"
          ]
        }
      ],
      "source": [
        "cleaned_data = cleaned_data.fillna('Null')\n",
        "aggregated_data = cleaned_data.groupby(['1st', '2nd', '3rd']).agg({'Count': 'sum'}).reset_index().sort_values(by='1st', ascending=True, ignore_index=True)\n",
        "print(aggregated_data)\n",
        "\n",
        "cleaned_data.to_csv(file_path, index = False)"
      ]
    },
    {
      "cell_type": "markdown",
      "metadata": {
        "id": "lqdmWhZVw6Jx"
      },
      "source": [
        "Round 2 first rank"
      ]
    },
    {
      "cell_type": "code",
      "execution_count": 59,
      "metadata": {
        "colab": {
          "base_uri": "https://localhost:8080/"
        },
        "id": "fD0RpMezw7yX",
        "outputId": "ca527dea-b14a-4073-cd7a-44298b7f2485"
      },
      "outputs": [
        {
          "name": "stdout",
          "output_type": "stream",
          "text": [
            "                Candidate  Count\n",
            "1              Al Flowers    713\n",
            "2            Aswar Rahman    756\n",
            "3            Betsy Hodges  18921\n",
            "4    Captain Jack Sparrow    443\n",
            "5            Charlie Gers   1238\n",
            "6   Christopher Zimmerman      1\n",
            "7       David John Wilson    224\n",
            "8         David Rosenfeld    480\n",
            "9        Gregg A. Iverson    337\n",
            "10            Ian Simpson    119\n",
            "11             Jacob Frey  26124\n",
            "12               L.A. Nik    616\n",
            "13     Nekima Levy-Pounds  15718\n",
            "14           Raymond Dehn  18104\n",
            "15        Ronald Lischeid    325\n",
            "16               Tom Hoch  20131\n",
            "17       Troy Benjegerdes    185\n"
          ]
        }
      ],
      "source": [
        "# Group by the first-ranked candidate and sum the counts, then convert to DataFrame\n",
        "first_rank_counts_df = aggregated_data.groupby('1st')['Count'].sum().reset_index()\n",
        "\n",
        "# Rename the columns\n",
        "first_rank_counts_df.columns = ['Candidate', 'Count']\n",
        "\n",
        "# Set the index to start from 1\n",
        "first_rank_counts_df.index = first_rank_counts_df.index + 1\n",
        "\n",
        "print(first_rank_counts_df)\n",
        "\n",
        "cleaned_data.to_csv(file_path, index = False)"
      ]
    },
    {
      "cell_type": "markdown",
      "metadata": {
        "id": "oABQI7EazNes"
      },
      "source": [
        "Aggregate"
      ]
    },
    {
      "cell_type": "code",
      "execution_count": 60,
      "metadata": {
        "colab": {
          "base_uri": "https://localhost:8080/"
        },
        "id": "ZfV2yvrIzOy7",
        "outputId": "f22bd01f-3fe6-437d-a7d0-56bcad40f67f"
      },
      "outputs": [
        {
          "name": "stdout",
          "output_type": "stream",
          "text": [
            "                   1st                   2nd              3rd  Count\n",
            "0           Al Flowers          Aswar Rahman     Betsy Hodges      4\n",
            "1           Al Flowers    Nekima Levy-Pounds  Ronald Lischeid      2\n",
            "2           Al Flowers    Nekima Levy-Pounds     Raymond Dehn     18\n",
            "3           Al Flowers    Nekima Levy-Pounds             Null     25\n",
            "4           Al Flowers    Nekima Levy-Pounds       Jacob Frey     16\n",
            "...                ...                   ...              ...    ...\n",
            "2334  Troy Benjegerdes          Charlie Gers     Betsy Hodges      1\n",
            "2335  Troy Benjegerdes  Captain Jack Sparrow         Tom Hoch      1\n",
            "2336  Troy Benjegerdes  Captain Jack Sparrow  Ronald Lischeid      2\n",
            "2337  Troy Benjegerdes            Jacob Frey     Aswar Rahman      2\n",
            "2338  Troy Benjegerdes              Tom Hoch     Raymond Dehn      2\n",
            "\n",
            "[2339 rows x 4 columns]\n"
          ]
        }
      ],
      "source": [
        "cleaned_data = cleaned_data.fillna('Null')\n",
        "aggregated_data = cleaned_data.groupby(['1st', '2nd', '3rd']).agg({'Count': 'sum'}).reset_index().sort_values(by='1st', ascending=True, ignore_index=True)\n",
        "print(aggregated_data)\n",
        "\n",
        "cleaned_data.to_csv(file_path, index = False)"
      ]
    },
    {
      "cell_type": "markdown",
      "metadata": {
        "id": "jnUSR6bt0S4M"
      },
      "source": [
        "Round 3 first rank"
      ]
    },
    {
      "cell_type": "code",
      "execution_count": 61,
      "metadata": {
        "colab": {
          "base_uri": "https://localhost:8080/"
        },
        "id": "WLB_s13N0VnP",
        "outputId": "bca9b9c1-92fe-4e30-94e9-ec8cf98adea3"
      },
      "outputs": [
        {
          "name": "stdout",
          "output_type": "stream",
          "text": [
            "                Candidate  Count\n",
            "1              Al Flowers    713\n",
            "2            Aswar Rahman    756\n",
            "3            Betsy Hodges  18921\n",
            "4    Captain Jack Sparrow    443\n",
            "5            Charlie Gers   1238\n",
            "6   Christopher Zimmerman      1\n",
            "7       David John Wilson    224\n",
            "8         David Rosenfeld    480\n",
            "9        Gregg A. Iverson    337\n",
            "10            Ian Simpson    119\n",
            "11             Jacob Frey  26124\n",
            "12               L.A. Nik    616\n",
            "13     Nekima Levy-Pounds  15718\n",
            "14           Raymond Dehn  18104\n",
            "15        Ronald Lischeid    325\n",
            "16               Tom Hoch  20131\n",
            "17       Troy Benjegerdes    185\n"
          ]
        }
      ],
      "source": [
        "# Group by the first-ranked candidate and sum the counts, then convert to DataFrame\n",
        "first_rank_counts_df = aggregated_data.groupby('1st')['Count'].sum().reset_index()\n",
        "\n",
        "# Rename the columns\n",
        "first_rank_counts_df.columns = ['Candidate', 'Count']\n",
        "\n",
        "# Set the index to start from 1\n",
        "first_rank_counts_df.index = first_rank_counts_df.index + 1\n",
        "\n",
        "print(first_rank_counts_df)"
      ]
    }
  ],
  "metadata": {
    "colab": {
      "provenance": []
    },
    "kernelspec": {
      "display_name": "Python 3",
      "name": "python3"
    },
    "language_info": {
      "codemirror_mode": {
        "name": "ipython",
        "version": 3
      },
      "file_extension": ".py",
      "mimetype": "text/x-python",
      "name": "python",
      "nbconvert_exporter": "python",
      "pygments_lexer": "ipython3",
      "version": "3.12.3"
    }
  },
  "nbformat": 4,
  "nbformat_minor": 0
}
